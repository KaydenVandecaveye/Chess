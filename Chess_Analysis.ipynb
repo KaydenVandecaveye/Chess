{
 "cells": [
  {
   "cell_type": "code",
   "execution_count": 5,
   "id": "3f6c7fbd-ac90-43b0-afb9-8bc5d72ce0ae",
   "metadata": {},
   "outputs": [],
   "source": [
    "import zstandard as zstd\n",
    "import chess.pgn"
   ]
  },
  {
   "cell_type": "code",
   "execution_count": 2,
   "id": "cb5c4a30-a665-43ab-97cf-b46ebc2d5341",
   "metadata": {},
   "outputs": [],
   "source": [
    "compressed = \"/Users/kaydenvandecaveye/PersonalProjects/SWE/Chess/lichess_db_standard_rated_2024-10.pgn.zst\"\n",
    "decompressed = \"/Users/kaydenvandecaveye/PersonalProjects/SWE/Chess/lichess_db_standard_rated_2024-10.pgn\""
   ]
  },
  {
   "cell_type": "code",
   "execution_count": 3,
   "id": "e3f3ea1a-5ed2-47f1-b53b-0a7bce91598c",
   "metadata": {},
   "outputs": [
    {
     "ename": "OSError",
     "evalue": "[Errno 28] No space left on device",
     "output_type": "error",
     "traceback": [
      "\u001b[0;31m---------------------------------------------------------------------------\u001b[0m",
      "\u001b[0;31mOSError\u001b[0m                                   Traceback (most recent call last)",
      "Cell \u001b[0;32mIn[3], line 3\u001b[0m\n\u001b[1;32m      1\u001b[0m \u001b[38;5;28;01mwith\u001b[39;00m \u001b[38;5;28mopen\u001b[39m(compressed, \u001b[38;5;124m'\u001b[39m\u001b[38;5;124mrb\u001b[39m\u001b[38;5;124m'\u001b[39m) \u001b[38;5;28;01mas\u001b[39;00m compressed_file, \u001b[38;5;28mopen\u001b[39m(decompressed, \u001b[38;5;124m'\u001b[39m\u001b[38;5;124mwb\u001b[39m\u001b[38;5;124m'\u001b[39m) \u001b[38;5;28;01mas\u001b[39;00m decompressed_file:\n\u001b[1;32m      2\u001b[0m     dctx \u001b[38;5;241m=\u001b[39m zstd\u001b[38;5;241m.\u001b[39mZstdDecompressor()\n\u001b[0;32m----> 3\u001b[0m     \u001b[43mdctx\u001b[49m\u001b[38;5;241;43m.\u001b[39;49m\u001b[43mcopy_stream\u001b[49m\u001b[43m(\u001b[49m\u001b[43mcompressed_file\u001b[49m\u001b[43m,\u001b[49m\u001b[43m \u001b[49m\u001b[43mdecompressed_file\u001b[49m\u001b[43m)\u001b[49m\n",
      "\u001b[0;31mOSError\u001b[0m: [Errno 28] No space left on device"
     ]
    }
   ],
   "source": [
    "with open(compressed, 'rb') as compressed_file, open(decompressed, 'wb') as decompressed_file:\n",
    "    dctx = zstd.ZstdDecompressor()\n",
    "    dctx.copy_stream(compressed_file, decompressed_file)"
   ]
  },
  {
   "cell_type": "code",
   "execution_count": 8,
   "id": "4a5c055e-36d1-4e76-824a-0e5877db4375",
   "metadata": {},
   "outputs": [
    {
     "name": "stdout",
     "output_type": "stream",
     "text": [
      "Game Headers:\n",
      "Headers(Event='Rated Blitz game', Site='https://lichess.org/WlZhYLYO', Date='2024.10.01', Round='-', White='SlipperyNoodle9', Black='Do_minus', Result='0-1', UTCDate='2024.10.01', UTCTime='00:00:04', WhiteElo='1281', BlackElo='1305', WhiteRatingDiff='-5', BlackRatingDiff='+11', ECO='C62', Opening='Ruy Lopez: Steinitz Defense', TimeControl='300+3', Termination='Normal')\n",
      "\n",
      "Evaluations for each move:\n",
      "Move e4: No evaluation found\n",
      "Move e5: No evaluation found\n",
      "Move Nf3: No evaluation found\n",
      "Move Nc6: No evaluation found\n",
      "Move Bb5: No evaluation found\n",
      "Move d6: No evaluation found\n",
      "Move c3: No evaluation found\n",
      "Move Bd7: No evaluation found\n",
      "Move d4: No evaluation found\n",
      "Move Qf6: No evaluation found\n",
      "Move dxe5: No evaluation found\n",
      "Move dxe5: No evaluation found\n",
      "Move Bg5: No evaluation found\n",
      "Move Qd6: No evaluation found\n",
      "Move O-O: No evaluation found\n",
      "Move Qxd1: No evaluation found\n",
      "Move Rxd1: No evaluation found\n",
      "Move Be7: No evaluation found\n",
      "Move Bxe7: No evaluation found\n",
      "Move Ngxe7: No evaluation found\n",
      "Move Nbd2: No evaluation found\n",
      "Move O-O: No evaluation found\n",
      "Move Nc4: No evaluation found\n",
      "Move Rad8: No evaluation found\n",
      "Move Ncxe5: No evaluation found\n",
      "Move Nxe5: No evaluation found\n"
     ]
    }
   ],
   "source": [
    "pgn_file = '/Users/kaydenvandecaveye/PersonalProjects/SWE/Chess/lichess_db_standard_rated_2024-10.pgn'\n",
    "\n",
    "# Read the first game\n",
    "with open(pgn_file, 'r') as file:\n",
    "    game = chess.pgn.read_game(file)\n",
    "    if game is not None:\n",
    "        print(\"Game Headers:\")\n",
    "        print(game.headers)\n",
    "\n",
    "        print(\"\\nEvaluations for each move:\")\n",
    "        node = game\n",
    "        while node.variations:  # Traverse through the mainline moves\n",
    "            next_node = node.variation(0)\n",
    "            if \"eval\" in node.comment:\n",
    "                eval_value = node.comment.split(\"[%eval \")[1].split(\"]\")[0]\n",
    "                print(f\"Move {node.board().san(next_node.move)}: Evaluation = {eval_value}\")\n",
    "            else:\n",
    "                print(f\"Move {node.board().san(next_node.move)}: No evaluation found\")\n",
    "            node = next_node\n",
    "    else:\n",
    "        print(\"No game found in the PGN file.\")\n"
   ]
  }
 ],
 "metadata": {
  "kernelspec": {
   "display_name": "Python 3 (ipykernel)",
   "language": "python",
   "name": "python3"
  },
  "language_info": {
   "codemirror_mode": {
    "name": "ipython",
    "version": 3
   },
   "file_extension": ".py",
   "mimetype": "text/x-python",
   "name": "python",
   "nbconvert_exporter": "python",
   "pygments_lexer": "ipython3",
   "version": "3.9.6"
  }
 },
 "nbformat": 4,
 "nbformat_minor": 5
}
